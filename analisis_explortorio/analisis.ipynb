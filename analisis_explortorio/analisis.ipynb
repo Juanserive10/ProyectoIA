{
 "cells": [
  {
   "cell_type": "markdown",
   "id": "1774b030",
   "metadata": {},
   "source": [
    "# Proyecto Bootcamp IA"
   ]
  },
  {
   "cell_type": "markdown",
   "id": "12ec9997",
   "metadata": {},
   "source": [
    "## Análisis exploratorio de la Data"
   ]
  },
  {
   "cell_type": "code",
   "execution_count": 4,
   "id": "d9045636",
   "metadata": {},
   "outputs": [],
   "source": [
    "import pandas as pd\n",
    "import numpy as np\n",
    "import matplotlib.pyplot as plt \n",
    "import seaborn as sns"
   ]
  },
  {
   "cell_type": "markdown",
   "id": "39c6e160",
   "metadata": {},
   "source": [
    "1. Abrir el DataSet de excel y volverlo un DataFrame (Visualización de los datos)\n",
    "2. Hacer el tratamiento de los valores nulos (Limpieza de datos)\n",
    "3. Mostrar por pantalla el deporte que más practican los estudiantes (ambos sexos)\n",
    "4. Mostrar por pantalla la institución educativa con el mayor y menor numero de estudiantes\n",
    "   que practican deportes\n",
    "5. Seleccionar en el primer cuartil de las estudiantes (mujeres) que practican tenis de mesa en la prueba\n",
    "   de balón medicinal. Es decir, que tienen los resultados mas bajos"
   ]
  },
  {
   "cell_type": "markdown",
   "id": "4465579d",
   "metadata": {},
   "source": [
    "## 1. Visualización de los datos"
   ]
  },
  {
   "cell_type": "markdown",
   "id": "fb0263d5",
   "metadata": {},
   "source": [
    "Versión de Python: 3.13.2"
   ]
  },
  {
   "cell_type": "code",
   "execution_count": 7,
   "id": "46cbf92e",
   "metadata": {},
   "outputs": [
    {
     "data": {
      "text/html": [
       "<div>\n",
       "<style scoped>\n",
       "    .dataframe tbody tr th:only-of-type {\n",
       "        vertical-align: middle;\n",
       "    }\n",
       "\n",
       "    .dataframe tbody tr th {\n",
       "        vertical-align: top;\n",
       "    }\n",
       "\n",
       "    .dataframe thead th {\n",
       "        text-align: right;\n",
       "    }\n",
       "</style>\n",
       "<table border=\"1\" class=\"dataframe\">\n",
       "  <thead>\n",
       "    <tr style=\"text-align: right;\">\n",
       "      <th></th>\n",
       "      <th>Institución Educativa Distrital -IED</th>\n",
       "      <th>Deporte</th>\n",
       "      <th>Sexo</th>\n",
       "      <th>Edad (años cumplidos)</th>\n",
       "      <th>Peso (kg)</th>\n",
       "      <th>Talla (cm)</th>\n",
       "      <th>Talla Sentado (cm)</th>\n",
       "      <th>Envergadura (cm)</th>\n",
       "      <th>Balón Medicinal</th>\n",
       "      <th>Salto Largo</th>\n",
       "      <th>10 x 5 (s)</th>\n",
       "      <th>30 m lanzados (s)</th>\n",
       "      <th>Wells</th>\n",
       "      <th>Leger</th>\n",
       "      <th>Velocidad Máxima (Course Navette - km h^-1)</th>\n",
       "    </tr>\n",
       "  </thead>\n",
       "  <tbody>\n",
       "    <tr>\n",
       "      <th>0</th>\n",
       "      <td>COL CLEMENCIA DE CAYCEDO (IED)</td>\n",
       "      <td>AJEDREZ</td>\n",
       "      <td>Mujer</td>\n",
       "      <td>12</td>\n",
       "      <td>40.0</td>\n",
       "      <td>148.0</td>\n",
       "      <td>77.0</td>\n",
       "      <td>149.0</td>\n",
       "      <td>305.0</td>\n",
       "      <td>113.0</td>\n",
       "      <td>19.5</td>\n",
       "      <td>7.0</td>\n",
       "      <td>30.0</td>\n",
       "      <td>3.0</td>\n",
       "      <td>9.5</td>\n",
       "    </tr>\n",
       "    <tr>\n",
       "      <th>1</th>\n",
       "      <td>COL CLEMENCIA DE CAYCEDO (IED)</td>\n",
       "      <td>AJEDREZ</td>\n",
       "      <td>Mujer</td>\n",
       "      <td>12</td>\n",
       "      <td>53.0</td>\n",
       "      <td>158.0</td>\n",
       "      <td>82.0</td>\n",
       "      <td>158.0</td>\n",
       "      <td>400.0</td>\n",
       "      <td>142.0</td>\n",
       "      <td>17.8</td>\n",
       "      <td>6.2</td>\n",
       "      <td>18.0</td>\n",
       "      <td>NaN</td>\n",
       "      <td>NaN</td>\n",
       "    </tr>\n",
       "    <tr>\n",
       "      <th>2</th>\n",
       "      <td>COL CLEMENCIA DE CAYCEDO (IED)</td>\n",
       "      <td>AJEDREZ</td>\n",
       "      <td>Mujer</td>\n",
       "      <td>12</td>\n",
       "      <td>46.0</td>\n",
       "      <td>156.0</td>\n",
       "      <td>80.0</td>\n",
       "      <td>153.0</td>\n",
       "      <td>310.0</td>\n",
       "      <td>145.0</td>\n",
       "      <td>19.3</td>\n",
       "      <td>6.5</td>\n",
       "      <td>29.0</td>\n",
       "      <td>3.0</td>\n",
       "      <td>9.5</td>\n",
       "    </tr>\n",
       "    <tr>\n",
       "      <th>3</th>\n",
       "      <td>COL CLEMENCIA DE CAYCEDO (IED)</td>\n",
       "      <td>AJEDREZ</td>\n",
       "      <td>Mujer</td>\n",
       "      <td>12</td>\n",
       "      <td>53.0</td>\n",
       "      <td>147.0</td>\n",
       "      <td>77.0</td>\n",
       "      <td>146.0</td>\n",
       "      <td>335.0</td>\n",
       "      <td>129.0</td>\n",
       "      <td>19.7</td>\n",
       "      <td>7.1</td>\n",
       "      <td>22.0</td>\n",
       "      <td>3.0</td>\n",
       "      <td>9.5</td>\n",
       "    </tr>\n",
       "    <tr>\n",
       "      <th>4</th>\n",
       "      <td>COL CLEMENCIA DE CAYCEDO (IED)</td>\n",
       "      <td>AJEDREZ</td>\n",
       "      <td>Mujer</td>\n",
       "      <td>12</td>\n",
       "      <td>51.0</td>\n",
       "      <td>158.0</td>\n",
       "      <td>83.0</td>\n",
       "      <td>157.0</td>\n",
       "      <td>360.0</td>\n",
       "      <td>148.0</td>\n",
       "      <td>17.2</td>\n",
       "      <td>6.2</td>\n",
       "      <td>22.0</td>\n",
       "      <td>3.0</td>\n",
       "      <td>9.5</td>\n",
       "    </tr>\n",
       "  </tbody>\n",
       "</table>\n",
       "</div>"
      ],
      "text/plain": [
       "  Institución Educativa Distrital -IED  Deporte   Sexo  Edad (años cumplidos)  \\\n",
       "0       COL CLEMENCIA DE CAYCEDO (IED)  AJEDREZ  Mujer                     12   \n",
       "1       COL CLEMENCIA DE CAYCEDO (IED)  AJEDREZ  Mujer                     12   \n",
       "2       COL CLEMENCIA DE CAYCEDO (IED)  AJEDREZ  Mujer                     12   \n",
       "3       COL CLEMENCIA DE CAYCEDO (IED)  AJEDREZ  Mujer                     12   \n",
       "4       COL CLEMENCIA DE CAYCEDO (IED)  AJEDREZ  Mujer                     12   \n",
       "\n",
       "   Peso (kg)  Talla (cm)  Talla Sentado (cm)  Envergadura (cm)  \\\n",
       "0       40.0       148.0                77.0             149.0   \n",
       "1       53.0       158.0                82.0             158.0   \n",
       "2       46.0       156.0                80.0             153.0   \n",
       "3       53.0       147.0                77.0             146.0   \n",
       "4       51.0       158.0                83.0             157.0   \n",
       "\n",
       "   Balón Medicinal  Salto Largo  10 x 5 (s)  30 m lanzados (s)  Wells  Leger  \\\n",
       "0            305.0        113.0        19.5                7.0   30.0    3.0   \n",
       "1            400.0        142.0        17.8                6.2   18.0    NaN   \n",
       "2            310.0        145.0        19.3                6.5   29.0    3.0   \n",
       "3            335.0        129.0        19.7                7.1   22.0    3.0   \n",
       "4            360.0        148.0        17.2                6.2   22.0    3.0   \n",
       "\n",
       "   Velocidad Máxima (Course Navette - km h^-1)  \n",
       "0                                          9.5  \n",
       "1                                          NaN  \n",
       "2                                          9.5  \n",
       "3                                          9.5  \n",
       "4                                          9.5  "
      ]
     },
     "execution_count": 7,
     "metadata": {},
     "output_type": "execute_result"
    }
   ],
   "source": [
    "datos = pd.read_excel(\"datos.xlsx\")\n",
    "datos.head()"
   ]
  },
  {
   "cell_type": "code",
   "execution_count": 8,
   "id": "b01a0593",
   "metadata": {},
   "outputs": [
    {
     "data": {
      "text/plain": [
       "Index(['Institución Educativa Distrital -IED', 'Deporte', 'Sexo',\n",
       "       'Edad (años cumplidos)', 'Peso (kg)', 'Talla (cm)',\n",
       "       'Talla Sentado (cm)', 'Envergadura (cm)', 'Balón Medicinal',\n",
       "       'Salto Largo', '10 x 5 (s)', '30 m lanzados (s)', 'Wells', 'Leger',\n",
       "       'Velocidad Máxima (Course Navette - km h^-1)'],\n",
       "      dtype='object')"
      ]
     },
     "execution_count": 8,
     "metadata": {},
     "output_type": "execute_result"
    }
   ],
   "source": [
    "# Imprimir las columnas \n",
    "datos.columns"
   ]
  },
  {
   "cell_type": "code",
   "execution_count": 9,
   "id": "e443af79",
   "metadata": {},
   "outputs": [
    {
     "name": "stdout",
     "output_type": "stream",
     "text": [
      "Dimensiones del DataFrame (2491, 15)\n"
     ]
    }
   ],
   "source": [
    "# Verificar número de filas y columnas \n",
    "print(\"Dimensiones del DataFrame\",datos.shape)"
   ]
  },
  {
   "cell_type": "markdown",
   "id": "7fbf141f",
   "metadata": {},
   "source": [
    "## 2. Limpieza de datos "
   ]
  },
  {
   "cell_type": "code",
   "execution_count": 11,
   "id": "0830a8bb",
   "metadata": {},
   "outputs": [
    {
     "name": "stdout",
     "output_type": "stream",
     "text": [
      "Institución Educativa Distrital -IED            0\n",
      "Deporte                                         0\n",
      "Sexo                                            0\n",
      "Edad (años cumplidos)                           0\n",
      "Peso (kg)                                       0\n",
      "Talla (cm)                                      0\n",
      "Talla Sentado (cm)                              0\n",
      "Envergadura (cm)                                0\n",
      "Balón Medicinal                                 0\n",
      "Salto Largo                                     0\n",
      "10 x 5 (s)                                      0\n",
      "30 m lanzados (s)                               0\n",
      "Wells                                           0\n",
      "Leger                                          58\n",
      "Velocidad Máxima (Course Navette - km h^-1)    85\n",
      "dtype: int64\n"
     ]
    }
   ],
   "source": [
    "# Visualización de la cantidad de valores nulos por columnas \n",
    "print(datos.isnull().sum())"
   ]
  },
  {
   "cell_type": "code",
   "execution_count": null,
   "id": "04858b26",
   "metadata": {},
   "outputs": [
    {
     "data": {
      "text/html": [
       "<div>\n",
       "<style scoped>\n",
       "    .dataframe tbody tr th:only-of-type {\n",
       "        vertical-align: middle;\n",
       "    }\n",
       "\n",
       "    .dataframe tbody tr th {\n",
       "        vertical-align: top;\n",
       "    }\n",
       "\n",
       "    .dataframe thead th {\n",
       "        text-align: right;\n",
       "    }\n",
       "</style>\n",
       "<table border=\"1\" class=\"dataframe\">\n",
       "  <thead>\n",
       "    <tr style=\"text-align: right;\">\n",
       "      <th></th>\n",
       "      <th>Institución Educativa Distrital -IED</th>\n",
       "      <th>Deporte</th>\n",
       "      <th>Sexo</th>\n",
       "      <th>Edad (años cumplidos)</th>\n",
       "      <th>Peso (kg)</th>\n",
       "      <th>Talla (cm)</th>\n",
       "      <th>Talla Sentado (cm)</th>\n",
       "      <th>Envergadura (cm)</th>\n",
       "      <th>Balón Medicinal</th>\n",
       "      <th>Salto Largo</th>\n",
       "      <th>10 x 5 (s)</th>\n",
       "      <th>30 m lanzados (s)</th>\n",
       "      <th>Wells</th>\n",
       "      <th>Leger</th>\n",
       "      <th>Velocidad Máxima (Course Navette - km h^-1)</th>\n",
       "    </tr>\n",
       "  </thead>\n",
       "  <tbody>\n",
       "    <tr>\n",
       "      <th>0</th>\n",
       "      <td>COL CLEMENCIA DE CAYCEDO (IED)</td>\n",
       "      <td>AJEDREZ</td>\n",
       "      <td>Mujer</td>\n",
       "      <td>12</td>\n",
       "      <td>40.0</td>\n",
       "      <td>148.0</td>\n",
       "      <td>77.0</td>\n",
       "      <td>149.0</td>\n",
       "      <td>305.0</td>\n",
       "      <td>113.0</td>\n",
       "      <td>19.5</td>\n",
       "      <td>7.0</td>\n",
       "      <td>30.0</td>\n",
       "      <td>3.0</td>\n",
       "      <td>9.5</td>\n",
       "    </tr>\n",
       "    <tr>\n",
       "      <th>1</th>\n",
       "      <td>COL CLEMENCIA DE CAYCEDO (IED)</td>\n",
       "      <td>AJEDREZ</td>\n",
       "      <td>Mujer</td>\n",
       "      <td>12</td>\n",
       "      <td>53.0</td>\n",
       "      <td>158.0</td>\n",
       "      <td>82.0</td>\n",
       "      <td>158.0</td>\n",
       "      <td>400.0</td>\n",
       "      <td>142.0</td>\n",
       "      <td>17.8</td>\n",
       "      <td>6.2</td>\n",
       "      <td>18.0</td>\n",
       "      <td>NaN</td>\n",
       "      <td>NaN</td>\n",
       "    </tr>\n",
       "    <tr>\n",
       "      <th>2</th>\n",
       "      <td>COL CLEMENCIA DE CAYCEDO (IED)</td>\n",
       "      <td>AJEDREZ</td>\n",
       "      <td>Mujer</td>\n",
       "      <td>12</td>\n",
       "      <td>46.0</td>\n",
       "      <td>156.0</td>\n",
       "      <td>80.0</td>\n",
       "      <td>153.0</td>\n",
       "      <td>310.0</td>\n",
       "      <td>145.0</td>\n",
       "      <td>19.3</td>\n",
       "      <td>6.5</td>\n",
       "      <td>29.0</td>\n",
       "      <td>3.0</td>\n",
       "      <td>9.5</td>\n",
       "    </tr>\n",
       "    <tr>\n",
       "      <th>3</th>\n",
       "      <td>COL CLEMENCIA DE CAYCEDO (IED)</td>\n",
       "      <td>AJEDREZ</td>\n",
       "      <td>Mujer</td>\n",
       "      <td>12</td>\n",
       "      <td>53.0</td>\n",
       "      <td>147.0</td>\n",
       "      <td>77.0</td>\n",
       "      <td>146.0</td>\n",
       "      <td>335.0</td>\n",
       "      <td>129.0</td>\n",
       "      <td>19.7</td>\n",
       "      <td>7.1</td>\n",
       "      <td>22.0</td>\n",
       "      <td>3.0</td>\n",
       "      <td>9.5</td>\n",
       "    </tr>\n",
       "    <tr>\n",
       "      <th>4</th>\n",
       "      <td>COL CLEMENCIA DE CAYCEDO (IED)</td>\n",
       "      <td>AJEDREZ</td>\n",
       "      <td>Mujer</td>\n",
       "      <td>12</td>\n",
       "      <td>51.0</td>\n",
       "      <td>158.0</td>\n",
       "      <td>83.0</td>\n",
       "      <td>157.0</td>\n",
       "      <td>360.0</td>\n",
       "      <td>148.0</td>\n",
       "      <td>17.2</td>\n",
       "      <td>6.2</td>\n",
       "      <td>22.0</td>\n",
       "      <td>3.0</td>\n",
       "      <td>9.5</td>\n",
       "    </tr>\n",
       "  </tbody>\n",
       "</table>\n",
       "</div>"
      ],
      "text/plain": [
       "  Institución Educativa Distrital -IED  Deporte   Sexo  Edad (años cumplidos)  \\\n",
       "0       COL CLEMENCIA DE CAYCEDO (IED)  AJEDREZ  Mujer                     12   \n",
       "1       COL CLEMENCIA DE CAYCEDO (IED)  AJEDREZ  Mujer                     12   \n",
       "2       COL CLEMENCIA DE CAYCEDO (IED)  AJEDREZ  Mujer                     12   \n",
       "3       COL CLEMENCIA DE CAYCEDO (IED)  AJEDREZ  Mujer                     12   \n",
       "4       COL CLEMENCIA DE CAYCEDO (IED)  AJEDREZ  Mujer                     12   \n",
       "\n",
       "   Peso (kg)  Talla (cm)  Talla Sentado (cm)  Envergadura (cm)  \\\n",
       "0       40.0       148.0                77.0             149.0   \n",
       "1       53.0       158.0                82.0             158.0   \n",
       "2       46.0       156.0                80.0             153.0   \n",
       "3       53.0       147.0                77.0             146.0   \n",
       "4       51.0       158.0                83.0             157.0   \n",
       "\n",
       "   Balón Medicinal  Salto Largo  10 x 5 (s)  30 m lanzados (s)  Wells  Leger  \\\n",
       "0            305.0        113.0        19.5                7.0   30.0    3.0   \n",
       "1            400.0        142.0        17.8                6.2   18.0    NaN   \n",
       "2            310.0        145.0        19.3                6.5   29.0    3.0   \n",
       "3            335.0        129.0        19.7                7.1   22.0    3.0   \n",
       "4            360.0        148.0        17.2                6.2   22.0    3.0   \n",
       "\n",
       "   Velocidad Máxima (Course Navette - km h^-1)  \n",
       "0                                          9.5  \n",
       "1                                          NaN  \n",
       "2                                          9.5  \n",
       "3                                          9.5  \n",
       "4                                          9.5  "
      ]
     },
     "execution_count": 13,
     "metadata": {},
     "output_type": "execute_result"
    }
   ],
   "source": [
    "# Generación de una copia para hacer la limpieza de datos\n",
    "df_copy = datos.copy()\n",
    "df_copy.head()"
   ]
  },
  {
   "cell_type": "code",
   "execution_count": 15,
   "id": "589caded",
   "metadata": {},
   "outputs": [
    {
     "name": "stdout",
     "output_type": "stream",
     "text": [
      "Institución Educativa Distrital -IED            0\n",
      "Deporte                                         0\n",
      "Sexo                                            0\n",
      "Edad (años cumplidos)                           0\n",
      "Peso (kg)                                       0\n",
      "Talla (cm)                                      0\n",
      "Talla Sentado (cm)                              0\n",
      "Envergadura (cm)                                0\n",
      "Balón Medicinal                                 0\n",
      "Salto Largo                                     0\n",
      "10 x 5 (s)                                      0\n",
      "30 m lanzados (s)                               0\n",
      "Wells                                           0\n",
      "Leger                                           0\n",
      "Velocidad Máxima (Course Navette - km h^-1)    85\n",
      "dtype: int64\n"
     ]
    },
    {
     "name": "stderr",
     "output_type": "stream",
     "text": [
      "C:\\Users\\juans\\AppData\\Local\\Temp\\ipykernel_5996\\334504840.py:3: FutureWarning: A value is trying to be set on a copy of a DataFrame or Series through chained assignment using an inplace method.\n",
      "The behavior will change in pandas 3.0. This inplace method will never work because the intermediate object on which we are setting values always behaves as a copy.\n",
      "\n",
      "For example, when doing 'df[col].method(value, inplace=True)', try using 'df.method({col: value}, inplace=True)' or df[col] = df[col].method(value) instead, to perform the operation inplace on the original object.\n",
      "\n",
      "\n",
      "  df_copy[\"Leger\"].fillna(df_copy[\"Leger\"].mean(), inplace=True)\n"
     ]
    }
   ],
   "source": [
    "# LLenar los datos nulos de la columna Leger con la media de los datos \n",
    "if \"Leger\" in df_copy.columns:\n",
    "    df_copy[\"Leger\"].fillna(df_copy[\"Leger\"].mean(), inplace=True)\n",
    "print(df_copy.isnull().sum())"
   ]
  },
  {
   "cell_type": "code",
   "execution_count": 16,
   "id": "76af3b0b",
   "metadata": {},
   "outputs": [
    {
     "name": "stdout",
     "output_type": "stream",
     "text": [
      "Institución Educativa Distrital -IED           0\n",
      "Deporte                                        0\n",
      "Sexo                                           0\n",
      "Edad (años cumplidos)                          0\n",
      "Peso (kg)                                      0\n",
      "Talla (cm)                                     0\n",
      "Talla Sentado (cm)                             0\n",
      "Envergadura (cm)                               0\n",
      "Balón Medicinal                                0\n",
      "Salto Largo                                    0\n",
      "10 x 5 (s)                                     0\n",
      "30 m lanzados (s)                              0\n",
      "Wells                                          0\n",
      "Leger                                          0\n",
      "Velocidad Máxima (Course Navette - km h^-1)    0\n",
      "dtype: int64\n"
     ]
    },
    {
     "name": "stderr",
     "output_type": "stream",
     "text": [
      "C:\\Users\\juans\\AppData\\Local\\Temp\\ipykernel_5996\\522461577.py:3: FutureWarning: A value is trying to be set on a copy of a DataFrame or Series through chained assignment using an inplace method.\n",
      "The behavior will change in pandas 3.0. This inplace method will never work because the intermediate object on which we are setting values always behaves as a copy.\n",
      "\n",
      "For example, when doing 'df[col].method(value, inplace=True)', try using 'df.method({col: value}, inplace=True)' or df[col] = df[col].method(value) instead, to perform the operation inplace on the original object.\n",
      "\n",
      "\n",
      "  df_copy[\"Velocidad Máxima (Course Navette - km h^-1)\"].fillna(df_copy[\"Velocidad Máxima (Course Navette - km h^-1)\"].mean(), inplace=True)\n"
     ]
    }
   ],
   "source": [
    "# LLenar los valores nulos de la columna Valocidad Máxima con la media de los datos \n",
    "if \"Velocidad Máxima (Course Navette - km h^-1)\" in df_copy.columns:\n",
    "    df_copy[\"Velocidad Máxima (Course Navette - km h^-1)\"].fillna(df_copy[\"Velocidad Máxima (Course Navette - km h^-1)\"].mean(), inplace=True)\n",
    "print(df_copy.isnull().sum())"
   ]
  },
  {
   "cell_type": "markdown",
   "id": "85404525",
   "metadata": {},
   "source": [
    "## 3. Deporte que más práctican los estudiantes "
   ]
  },
  {
   "cell_type": "code",
   "execution_count": 19,
   "id": "370cf5a1",
   "metadata": {},
   "outputs": [
    {
     "name": "stdout",
     "output_type": "stream",
     "text": [
      "El deporte más practicado es: FUTBOL\n"
     ]
    }
   ],
   "source": [
    "deporte_mas_practicado = df_copy[\"Deporte\"].mode()[0]\n",
    "print( \"El deporte más practicado es:\",deporte_mas_practicado)"
   ]
  },
  {
   "cell_type": "markdown",
   "id": "b027da81",
   "metadata": {},
   "source": [
    "## 4. Instiución educativa con mayor y menor número de estudiantes que practican deportes"
   ]
  },
  {
   "cell_type": "code",
   "execution_count": null,
   "id": "6efaae91",
   "metadata": {},
   "outputs": [
    {
     "data": {
      "text/plain": [
       "Institución Educativa Distrital -IED\n",
       "COMUNIDAD1                                   271\n",
       "COL TOMAS CARRASQUILLA (IED)                 139\n",
       "COL COLOMBIA VIVA (IED)                      126\n",
       "COL FEDERICO GARCIA LORCA (IED)              103\n",
       "COL MANUELA BELTRAN (IED)                     99\n",
       "                                            ... \n",
       "COL RUR JOSE CELESTINO MUTIS (IED)             4\n",
       "COL NUEVA ESPERANZA (IED)                      3\n",
       "COL INST TEC DISTRITAL JULIO FLOREZ (IED)      3\n",
       "COL MANUEL ELKIN PATARROYO (IED)               2\n",
       "COL RAFAEL BERNAL JIMENEZ (IED)                2\n",
       "Name: count, Length: 62, dtype: int64"
      ]
     },
     "execution_count": 20,
     "metadata": {},
     "output_type": "execute_result"
    }
   ],
   "source": [
    "colegio_moda = df_copy[\"Institución Educativa Distrital -IED\"].value_counts()\n",
    "colegio_moda"
   ]
  },
  {
   "cell_type": "code",
   "execution_count": 26,
   "id": "f46c603a",
   "metadata": {},
   "outputs": [
    {
     "name": "stdout",
     "output_type": "stream",
     "text": [
      "El colegio con mayor número de estudiantes inscritos en las pruebas físicas es: COMUNIDAD1 con 271 estudiantes\n",
      "El colegio con menor número de estudiantes inscritos en las pruebas físicas es: COL RAFAEL BERNAL JIMENEZ (IED) con 2 estudiantes\n"
     ]
    }
   ],
   "source": [
    "print(f\"El colegio con mayor número de estudiantes inscritos en las pruebas físicas es: {colegio_moda.index[0]} con {colegio_moda.iloc[0]} estudiantes\") \n",
    "print(f\"El colegio con menor número de estudiantes inscritos en las pruebas físicas es: {colegio_moda.index[-1]} con {colegio_moda.iloc[-1]} estudiantes\") "
   ]
  }
 ],
 "metadata": {
  "kernelspec": {
   "display_name": "env (3.13.2)",
   "language": "python",
   "name": "python3"
  },
  "language_info": {
   "codemirror_mode": {
    "name": "ipython",
    "version": 3
   },
   "file_extension": ".py",
   "mimetype": "text/x-python",
   "name": "python",
   "nbconvert_exporter": "python",
   "pygments_lexer": "ipython3",
   "version": "3.13.2"
  }
 },
 "nbformat": 4,
 "nbformat_minor": 5
}
